{
 "cells": [
  {
   "cell_type": "markdown",
   "metadata": {},
   "source": [
    "## NYC Child Services"
   ]
  },
  {
   "cell_type": "markdown",
   "metadata": {},
   "source": [
    "### SetUp"
   ]
  },
  {
   "cell_type": "code",
   "execution_count": 10,
   "metadata": {},
   "outputs": [
    {
     "name": "stderr",
     "output_type": "stream",
     "text": [
      "During startup - Warning messages:\n",
      "1: Setting LC_COLLATE failed, using \"C\" \n",
      "2: Setting LC_TIME failed, using \"C\" \n",
      "3: Setting LC_MESSAGES failed, using \"C\" \n",
      "4: Setting LC_MONETARY failed, using \"C\" \n"
     ]
    }
   ],
   "source": [
    "%load_ext rpy2.ipython\n",
    "%load_ext autoreload\n",
    "%autoreload 2\n",
    "\n",
    "%matplotlib inline  \n",
    "from matplotlib import rcParams\n",
    "rcParams['figure.figsize'] = (16, 100)\n",
    "\n",
    "import warnings\n",
    "from rpy2.rinterface import RRuntimeWarning\n",
    "warnings.filterwarnings(\"ignore\") # Ignore all warnings\n",
    "# warnings.filterwarnings(\"ignore\", category=RRuntimeWarning) # Show some warnings\n",
    "\n",
    "import pandas as pd\n",
    "import numpy as np\n",
    "import matplotlib.pyplot as plt\n",
    "from IPython.display import display, HTML"
   ]
  },
  {
   "cell_type": "code",
   "execution_count": 11,
   "metadata": {},
   "outputs": [
    {
     "data": {
      "application/javascript": "// Disable auto-scrolling\nIPython.OutputArea.prototype._should_scroll = function(lines) {\n    return false;\n}\n",
      "text/plain": [
       "<IPython.core.display.Javascript object>"
      ]
     },
     "metadata": {},
     "output_type": "display_data"
    }
   ],
   "source": [
    "%%javascript\n",
    "// Disable auto-scrolling\n",
    "IPython.OutputArea.prototype._should_scroll = function(lines) {\n",
    "    return false;\n",
    "}"
   ]
  },
  {
   "cell_type": "markdown",
   "metadata": {},
   "source": [
    "This is a Python notebook, but below is an R cell. The `%%R` at the top of the cell indicates that the code in this cell will be R code."
   ]
  },
  {
   "cell_type": "code",
   "execution_count": 12,
   "metadata": {},
   "outputs": [
    {
     "name": "stdout",
     "output_type": "stream",
     "text": [
      "── Attaching core tidyverse packages ──────────────────────── tidyverse 2.0.0 ──\n",
      "✔ dplyr     1.1.4     ✔ readr     2.1.5\n",
      "✔ forcats   1.0.0     ✔ stringr   1.5.1\n",
      "✔ ggplot2   3.5.0     ✔ tibble    3.2.1\n",
      "✔ lubridate 1.9.3     ✔ tidyr     1.3.0\n",
      "✔ purrr     1.0.2     \n",
      "── Conflicts ────────────────────────────────────────── tidyverse_conflicts() ──\n",
      "✖ dplyr::filter() masks stats::filter()\n",
      "✖ dplyr::lag()    masks stats::lag()\n",
      "ℹ Use the conflicted package (<http://conflicted.r-lib.org/>) to force all conflicts to become errors\n"
     ]
    },
    {
     "data": {
      "text/plain": [
       "Loading required package: tidyverse\n"
      ]
     },
     "metadata": {},
     "output_type": "display_data"
    }
   ],
   "source": [
    "%%R\n",
    "\n",
    "# My commonly used R imports\n",
    "\n",
    "require('tidyverse')"
   ]
  },
  {
   "cell_type": "markdown",
   "metadata": {},
   "source": [
    "### Load Data"
   ]
  },
  {
   "cell_type": "code",
   "execution_count": 13,
   "metadata": {},
   "outputs": [
    {
     "data": {
      "text/html": [
       "<div>\n",
       "<style scoped>\n",
       "    .dataframe tbody tr th:only-of-type {\n",
       "        vertical-align: middle;\n",
       "    }\n",
       "\n",
       "    .dataframe tbody tr th {\n",
       "        vertical-align: top;\n",
       "    }\n",
       "\n",
       "    .dataframe thead th {\n",
       "        text-align: right;\n",
       "    }\n",
       "</style>\n",
       "<table border=\"1\" class=\"dataframe\">\n",
       "  <thead>\n",
       "    <tr style=\"text-align: right;\">\n",
       "      <th></th>\n",
       "      <th>Category</th>\n",
       "      <th>Metric</th>\n",
       "      <th>Value</th>\n",
       "    </tr>\n",
       "  </thead>\n",
       "  <tbody>\n",
       "    <tr>\n",
       "      <th>0</th>\n",
       "      <td>SCR intakes*</td>\n",
       "      <td>Total</td>\n",
       "      <td>92305.0</td>\n",
       "    </tr>\n",
       "    <tr>\n",
       "      <th>1</th>\n",
       "      <td>SCR intakes*</td>\n",
       "      <td>African American/Black non-Hispanic</td>\n",
       "      <td>34923.0</td>\n",
       "    </tr>\n",
       "    <tr>\n",
       "      <th>2</th>\n",
       "      <td>SCR intakes*</td>\n",
       "      <td>Hispanic/Latinx</td>\n",
       "      <td>41247.0</td>\n",
       "    </tr>\n",
       "    <tr>\n",
       "      <th>3</th>\n",
       "      <td>SCR intakes*</td>\n",
       "      <td>White non-Hispanic</td>\n",
       "      <td>6463.0</td>\n",
       "    </tr>\n",
       "    <tr>\n",
       "      <th>4</th>\n",
       "      <td>SCR intakes*</td>\n",
       "      <td>Asian/ Pacific Islander nonHispanic</td>\n",
       "      <td>5110.0</td>\n",
       "    </tr>\n",
       "    <tr>\n",
       "      <th>...</th>\n",
       "      <td>...</td>\n",
       "      <td>...</td>\n",
       "      <td>...</td>\n",
       "    </tr>\n",
       "    <tr>\n",
       "      <th>140</th>\n",
       "      <td>% of Indicated Investigations</td>\n",
       "      <td>Hispanic/Latinx</td>\n",
       "      <td>8.0</td>\n",
       "    </tr>\n",
       "    <tr>\n",
       "      <th>141</th>\n",
       "      <td>% of Indicated Investigations</td>\n",
       "      <td>White non-Hispanic</td>\n",
       "      <td>9.4</td>\n",
       "    </tr>\n",
       "    <tr>\n",
       "      <th>142</th>\n",
       "      <td>% of Indicated Investigations</td>\n",
       "      <td>Asian/ Pacific Islander nonHispanic</td>\n",
       "      <td>6.3</td>\n",
       "    </tr>\n",
       "    <tr>\n",
       "      <th>143</th>\n",
       "      <td>% of Indicated Investigations</td>\n",
       "      <td>Multiple Race nonHispanic</td>\n",
       "      <td>13.2</td>\n",
       "    </tr>\n",
       "    <tr>\n",
       "      <th>144</th>\n",
       "      <td>% of Indicated Investigations</td>\n",
       "      <td>Other/Unknown</td>\n",
       "      <td>4.3</td>\n",
       "    </tr>\n",
       "  </tbody>\n",
       "</table>\n",
       "<p>145 rows × 3 columns</p>\n",
       "</div>"
      ],
      "text/plain": [
       "                          Category                               Metric  \\\n",
       "0                     SCR intakes*                                Total   \n",
       "1                     SCR intakes*  African American/Black non-Hispanic   \n",
       "2                     SCR intakes*                      Hispanic/Latinx   \n",
       "3                     SCR intakes*                   White non-Hispanic   \n",
       "4                     SCR intakes*  Asian/ Pacific Islander nonHispanic   \n",
       "..                             ...                                  ...   \n",
       "140  % of Indicated Investigations                      Hispanic/Latinx   \n",
       "141  % of Indicated Investigations                   White non-Hispanic   \n",
       "142  % of Indicated Investigations  Asian/ Pacific Islander nonHispanic   \n",
       "143  % of Indicated Investigations            Multiple Race nonHispanic   \n",
       "144  % of Indicated Investigations                        Other/Unknown   \n",
       "\n",
       "       Value  \n",
       "0    92305.0  \n",
       "1    34923.0  \n",
       "2    41247.0  \n",
       "3     6463.0  \n",
       "4     5110.0  \n",
       "..       ...  \n",
       "140      8.0  \n",
       "141      9.4  \n",
       "142      6.3  \n",
       "143     13.2  \n",
       "144      4.3  \n",
       "\n",
       "[145 rows x 3 columns]"
      ]
     },
     "execution_count": 13,
     "metadata": {},
     "output_type": "execute_result"
    }
   ],
   "source": [
    "# read pdf file asc_data.csv\n",
    "df = pd.read_csv('asc_data.csv')\n",
    "df"
   ]
  },
  {
   "cell_type": "markdown",
   "metadata": {},
   "source": [
    "### Terminology\n"
   ]
  },
  {
   "cell_type": "markdown",
   "metadata": {},
   "source": [
    "SCR intakes = Statewide Central Register of Child Abuse and Maltreatment (SCR) \n",
    "\n",
    "Indicated Investigations = A report to the SCR that ACS determines, after an investigation, to be supported by some credible evidence. An indicated investigation is not the same as a court finding of neglect and does not necessarily mean that any court action will be taken against the parent.\n",
    "\n",
    "Unsubstantiated Investigations = CPS did not find enough evidence to support the claim that a child has been abused or neglected. You will receive a letter from the New York State Central Register (SCR) that the report was unfounded.\n",
    "\n",
    "CARES Cases = Collaborative Assessment, Response, Engagement & Support (CARES) is an alternative, non-investigatory child protection response to reports made to the Statewide Central Register (SCR) of Child Abuse and Maltreatment.\n",
    "\n",
    "ACS Referral to Prevention = When a CPS assesses a family's need for services and subsequently refers the family to prevention services, CPS shall make the referral as early as possible in the investigation. Early referrals enable CPS and the provider agency case planner to collaborate in introducing the family to appropriate services and to verify that the family remains connected to services. \n",
    "\n",
    "Emergency Removals = If, at any point during the investigation, ACS determines that the child is not safe in your home, ACS is required to conduct an emergency removal (during the hours Family Court is not in session).\n",
    "\n",
    "Article X Filings = If your child has been removed from your custody without your consent based on a court order because the police, a social service organization, or the court believes that your child has been abused or neglected, you have the right to seek the return of the child to your custody under Family Court Act Article 10.\n",
    "\n",
    "Remands at Initial Hearings = The number of temporary foster care placements (remands) as a result of initial hearings of abuse and maltreatment petitions\n",
    "\n",
    "Article X Foster Care Entries = A case formally filed by ACS in family court that alleges that a parent neglected or abused their children. "
   ]
  },
  {
   "cell_type": "markdown",
   "metadata": {},
   "source": [
    "### Hypothesis Testing\n",
    "\n",
    "\"Currently in New York, Black families are seven times as likely as white families to be reported to the family regulation system and 13 times more likely to have their children removed. Roughly ninety percent of the families ACS investigates are Black or Brown,\" according to ACS.\n",
    "\n",
    "H0 = there is no relationship with race and the likeliness of a child to end up in foster care\n",
    "\n",
    "HA= there is a relationship with race and the likeliness of a child to end up in foster care\n"
   ]
  },
  {
   "cell_type": "markdown",
   "metadata": {},
   "source": [
    "## Editorial Decisions based on Initial Interview with ACS\n",
    "\n",
    "### Children vs Parents\n",
    "This analysis will look at both. There are different characteristics for parents and children which while separately grouped, are still related and form a fuller picture of the family. \n",
    "\n",
    "### Categories in Steps to be used in the analysis\n",
    "The data shows the steps of the child welfare system from the report to the ACS to the case being filed by the ACS to the parents. This analysis will use indicated investigations as the baseline figure and foster care entries to measure outcome.   \n",
    "\n",
    "### FOIA request\n",
    "Recommendation from ACS is to do a FOIA request to get more nuanced data that shows the race of the families as well as the districts where they belong to. The request can be directed to the Policy, Planning, and Measurement department. \n",
    "\n"
   ]
  },
  {
   "cell_type": "code",
   "execution_count": null,
   "metadata": {},
   "outputs": [],
   "source": []
  }
 ],
 "metadata": {
  "kernelspec": {
   "display_name": "Python 3",
   "language": "python",
   "name": "python3"
  },
  "language_info": {
   "codemirror_mode": {
    "name": "ipython",
    "version": 3
   },
   "file_extension": ".py",
   "mimetype": "text/x-python",
   "name": "python",
   "nbconvert_exporter": "python",
   "pygments_lexer": "ipython3",
   "version": "3.11.6"
  }
 },
 "nbformat": 4,
 "nbformat_minor": 2
}
